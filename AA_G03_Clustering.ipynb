{
  "nbformat": 4,
  "nbformat_minor": 0,
  "metadata": {
    "colab": {
      "provenance": []
    },
    "kernelspec": {
      "name": "python3",
      "display_name": "Python 3"
    },
    "language_info": {
      "name": "python"
    }
  },
  "cells": [
    {
      "cell_type": "markdown",
      "source": [
        "# Clustering - Grupo 03"
      ],
      "metadata": {
        "id": "ei1HSRBoarSA"
      }
    },
    {
      "cell_type": "markdown",
      "source": [
        "## **Authors**\n",
        "\n",
        "- César López Mantecón - 100472092\n",
        "- Manuel Gómez-Plana Rodríguez - 100472310\n",
        "\n"
      ],
      "metadata": {
        "id": "eDyKaRCpa782"
      }
    },
    {
      "cell_type": "markdown",
      "source": [
        "## **Repositorio**\n",
        "\n",
        "Esta práctica se ha llevado a cabo en este [repositorio de github](https://github.com/ManuGPR/AA_P2_G03.git)\n",
        "\n",
        "## **Introducción**\n",
        "\n",
        "En este cuaderno se resolverá un problema de clustering usando un dataset de estrellas."
      ],
      "metadata": {
        "id": "WECMpeGIbBbd"
      }
    },
    {
      "cell_type": "markdown",
      "source": [
        "# Carga de dataset"
      ],
      "metadata": {
        "id": "78wqY2vTbcor"
      }
    },
    {
      "cell_type": "markdown",
      "source": [
        "## Carga del dataset por drive"
      ],
      "metadata": {
        "id": "FhLAhHxdbjTQ"
      }
    },
    {
      "cell_type": "code",
      "source": [
        "# Para ejecutar el cuaderno en drive\n",
        "from google.colab import drive\n",
        "import pandas as pd\n",
        "\n",
        "drive.mount('/content/drive')\n",
        "stars = pd.read_csv(\"/content/drive/MyDrive/stars_data.csv\") # acceder al csv en drive"
      ],
      "metadata": {
        "colab": {
          "base_uri": "https://localhost:8080/"
        },
        "id": "qy0JXp9ubfCa",
        "outputId": "390ced64-47cc-4bbb-9ef5-9a07c9c0c57d"
      },
      "execution_count": 14,
      "outputs": [
        {
          "output_type": "stream",
          "name": "stdout",
          "text": [
            "Drive already mounted at /content/drive; to attempt to forcibly remount, call drive.mount(\"/content/drive\", force_remount=True).\n"
          ]
        }
      ]
    },
    {
      "cell_type": "markdown",
      "source": [
        "## Carga del dataset en local"
      ],
      "metadata": {
        "id": "waXa-jutboRV"
      }
    },
    {
      "cell_type": "code",
      "source": [
        "import pandas as pd\n",
        "stars = pd.read_csv(\"starts_data.csv\")"
      ],
      "metadata": {
        "id": "yD0-_fe9buvx"
      },
      "execution_count": null,
      "outputs": []
    },
    {
      "cell_type": "markdown",
      "source": [
        "# 1. Descripción del dataset\n",
        "Como podemos ver en la salida del código, contamos con un dataset de 240 instancias y 6 características. De estas 6 características, 4 son numéricas y 2 son categóricas."
      ],
      "metadata": {
        "id": "pKUgOG4TbR4K"
      }
    },
    {
      "cell_type": "code",
      "execution_count": 22,
      "metadata": {
        "colab": {
          "base_uri": "https://localhost:8080/"
        },
        "id": "64U0HNROae_6",
        "outputId": "9acecba5-6382-4e34-8c48-3bc201b6fd98"
      },
      "outputs": [
        {
          "output_type": "stream",
          "name": "stdout",
          "text": [
            "<class 'pandas.core.frame.DataFrame'>\n",
            "RangeIndex: 240 entries, 0 to 239\n",
            "Data columns (total 6 columns):\n",
            " #   Column          Non-Null Count  Dtype  \n",
            "---  ------          --------------  -----  \n",
            " 0   Temperature     240 non-null    int64  \n",
            " 1   L               240 non-null    float64\n",
            " 2   R               240 non-null    float64\n",
            " 3   A_M             240 non-null    float64\n",
            " 4   Color           240 non-null    object \n",
            " 5   Spectral_Class  240 non-null    object \n",
            "dtypes: float64(3), int64(1), object(2)\n",
            "memory usage: 11.4+ KB\n"
          ]
        }
      ],
      "source": [
        "stars.info()"
      ]
    },
    {
      "cell_type": "markdown",
      "source": [
        "# 2. Programación de K-Means\n",
        "En este apartado, se cubre una implementación propia del algoritmo K-Means, el cuál compararemos luego con el algoritmo de `scikit-learn`."
      ],
      "metadata": {
        "id": "cYaKdr_cdANb"
      }
    },
    {
      "cell_type": "code",
      "source": [
        "from random import random\n",
        "from math import sqrt\n",
        "import numpy\n",
        "\n",
        "class MyK_Means:\n",
        "  def __init__(self, k: int, data: pd.DataFrame):\n",
        "    self.k = k\n",
        "    self.data = data\n",
        "\n",
        "    self.centroids = {}\n",
        "    self.past_clusters = {}\n",
        "    self.clusters = {}\n",
        "\n",
        "    self.init_clusters()\n",
        "\n",
        "  def init_clusters(self):\n",
        "    for key in range(self.k):\n",
        "      self.past_clusters[key] = []\n",
        "      self.clusters[key] = []\n",
        "\n",
        "  def init_centroid(self):\n",
        "    list_min = self.data.min().to_list()\n",
        "    list_max = self.data.max().to_list()\n",
        "\n",
        "    for key in range(self.k):\n",
        "      centroid_list = []\n",
        "      for column in range(len(self.data.columns)):\n",
        "        centroid_list.append(random()*(list_max[column] - list_min[column]) + list_min)\n",
        "      self.centroids[key] = tuple(centroid_list)\n",
        "\n",
        "  def calculate_closest_centroid(self, row):\n",
        "    distances_cluster = []\n",
        "    for key in self.clusters.keys():\n",
        "      distances_cluster.append((self.calc_distance(self.clusters[key], row)))\n",
        "\n",
        "    return distances_cluster.index(min(distances_cluster))\n",
        "\n",
        "  def main_loop(self):\n",
        "    while (1):\n",
        "      self.past_clusters = self.clusters\n",
        "      for row in range(len(self.data)):\n",
        "        closest_centroid = self.calculate_closest_centroid(self.data.iloc[row, :])\n",
        "        self.clusters[closest_centroid].append(self.data.iloc[row, :])\n",
        "\n",
        "\n",
        "  @staticmethod\n",
        "  def calc_distance(vec1, vec2):\n",
        "    return numpy.linalg.norm(vec1-vec2)\n",
        "    \"\"\"\n",
        "    distance = 0\n",
        "    for i in range(len(vec1)):\n",
        "      distance += (vec1[i] - vec2[i])**2\n",
        "    return sqrt(distance)\n",
        "    \"\"\"\n",
        "\n",
        "\n",
        "  def check_variation(self):\n",
        "    pass\n",
        "\n",
        "\n",
        "\n",
        "\"\"\"\n",
        "------OPERACIONES------\n",
        "Saber si un elemento pertenece a un cluster\n",
        "Saber el centroide del cluster\n",
        "Saber si no hay variación\n",
        "\"\"\"\n",
        "\n",
        "\n",
        "\n",
        "\"\"\"\n",
        "k = numero de clusters [CHECK]\n",
        "inicializas k clusters aleatoriamente (centroides aleatorios) [CHECK]\n",
        "Calcular distancias a los centroides [CHECK]\n",
        "metes cada punto al cluster elegido por el centroide más cercano\n",
        "recalculas el centroide de cada clase\n",
        "repites while variación != 0\n",
        "\"\"\""
      ],
      "metadata": {
        "colab": {
          "base_uri": "https://localhost:8080/"
        },
        "id": "-Y-wrtUtdg0m",
        "outputId": "2edae673-a25e-4df0-fdaa-05bb3ddfbc71"
      },
      "execution_count": 30,
      "outputs": [
        {
          "output_type": "stream",
          "name": "stdout",
          "text": [
            "26.004435261124208\n"
          ]
        }
      ]
    }
  ]
}