{
  "nbformat": 4,
  "nbformat_minor": 0,
  "metadata": {
    "colab": {
      "provenance": []
    },
    "kernelspec": {
      "name": "python3",
      "display_name": "Python 3"
    },
    "language_info": {
      "name": "python"
    }
  },
  "cells": [
    {
      "cell_type": "markdown",
      "source": [
        "# Clustering - Grupo 03"
      ],
      "metadata": {
        "id": "ei1HSRBoarSA"
      }
    },
    {
      "cell_type": "markdown",
      "source": [
        "## **Authors**\n",
        "\n",
        "- César López Mantecón - 100472092\n",
        "- Manuel Gómez-Plana Rodríguez - 100472310\n",
        "\n"
      ],
      "metadata": {
        "id": "eDyKaRCpa782"
      }
    },
    {
      "cell_type": "markdown",
      "source": [
        "## **Repositorio**\n",
        "\n",
        "Esta práctica se ha llevado a cabo en este [repositorio de github](https://github.com/ManuGPR/AA_P2_G03.git)\n",
        "\n",
        "## **Introducción**\n",
        "\n",
        "En este cuaderno se resolverá un problema de clustering usando un dataset de estrellas."
      ],
      "metadata": {
        "id": "WECMpeGIbBbd"
      }
    },
    {
      "cell_type": "markdown",
      "source": [
        "# Carga de dataset"
      ],
      "metadata": {
        "id": "78wqY2vTbcor"
      }
    },
    {
      "cell_type": "markdown",
      "source": [
        "## Carga del dataset por drive"
      ],
      "metadata": {
        "id": "FhLAhHxdbjTQ"
      }
    },
    {
      "cell_type": "code",
      "source": [
        "# Para ejecutar el cuaderno en drive\n",
        "from google.colab import drive\n",
        "import pandas as pd\n",
        "\n",
        "drive.mount('/content/drive')\n",
        "stars = pd.read_csv(\"/content/drive/MyDrive/stars_data.csv\") # acceder al csv en drive"
      ],
      "metadata": {
        "colab": {
          "base_uri": "https://localhost:8080/"
        },
        "id": "qy0JXp9ubfCa",
        "outputId": "cc5d8bfb-f195-4539-d91b-974951219094"
      },
      "execution_count": 1,
      "outputs": [
        {
          "output_type": "stream",
          "name": "stdout",
          "text": [
            "Mounted at /content/drive\n"
          ]
        }
      ]
    },
    {
      "cell_type": "markdown",
      "source": [
        "## Carga del dataset en local"
      ],
      "metadata": {
        "id": "waXa-jutboRV"
      }
    },
    {
      "cell_type": "code",
      "source": [
        "import pandas as pd\n",
        "stars = pd.read_csv(\"starts_data.csv\")"
      ],
      "metadata": {
        "id": "yD0-_fe9buvx"
      },
      "execution_count": null,
      "outputs": []
    },
    {
      "cell_type": "markdown",
      "source": [
        "# 1. Descripción del dataset\n",
        "Como podemos ver en la salida del código, contamos con un dataset de 240 instancias y 6 características. De estas 6 características, 4 son numéricas y 2 son categóricas."
      ],
      "metadata": {
        "id": "pKUgOG4TbR4K"
      }
    },
    {
      "cell_type": "code",
      "execution_count": 2,
      "metadata": {
        "colab": {
          "base_uri": "https://localhost:8080/"
        },
        "id": "64U0HNROae_6",
        "outputId": "cbd2c94d-eac5-4f28-dd07-c1a3140d4328"
      },
      "outputs": [
        {
          "output_type": "stream",
          "name": "stdout",
          "text": [
            "<class 'pandas.core.frame.DataFrame'>\n",
            "RangeIndex: 240 entries, 0 to 239\n",
            "Data columns (total 6 columns):\n",
            " #   Column          Non-Null Count  Dtype  \n",
            "---  ------          --------------  -----  \n",
            " 0   Temperature     240 non-null    int64  \n",
            " 1   L               240 non-null    float64\n",
            " 2   R               240 non-null    float64\n",
            " 3   A_M             240 non-null    float64\n",
            " 4   Color           240 non-null    object \n",
            " 5   Spectral_Class  240 non-null    object \n",
            "dtypes: float64(3), int64(1), object(2)\n",
            "memory usage: 11.4+ KB\n"
          ]
        }
      ],
      "source": [
        "stars.info()"
      ]
    },
    {
      "cell_type": "markdown",
      "source": [
        "# 2. Programación de K-Means\n",
        "En este apartado, se cubre una implementación propia del algoritmo K-Means, el cuál compararemos luego con el algoritmo de `scikit-learn`."
      ],
      "metadata": {
        "id": "cYaKdr_cdANb"
      }
    },
    {
      "cell_type": "code",
      "source": [
        "from random import random\n",
        "from math import sqrt\n",
        "import matplotlib.pyplot as plt\n",
        "import numpy\n",
        "\n",
        "class MyK_Means:\n",
        "  def __init__(self, k: int, data: pd.DataFrame):\n",
        "    # Número de clusters\n",
        "    self.k = k\n",
        "\n",
        "    # Datos sobre los que trabajar\n",
        "    self.data = data\n",
        "\n",
        "    # Lista con centroides, index del centroide = value del centroide\n",
        "    self.centroids = []\n",
        "\n",
        "    # Lista con los clusters, index del centroide = lista con instancias de esos clusters\n",
        "    self.past_clusters = []\n",
        "    self.clusters = []\n",
        "\n",
        "    self.init_cluster()\n",
        "    self.init_centroid()\n",
        "\n",
        "  def init_cluster(self):\n",
        "    for key in range(self.k):\n",
        "      self.clusters.append(pd.DataFrame(columns=self.data.columns))\n",
        "\n",
        "  def init_centroid(self):\n",
        "    list_min = self.data.min().to_list()\n",
        "    list_max = self.data.max().to_list()\n",
        "\n",
        "    for key in range(self.k):\n",
        "      centroid_list = []\n",
        "      for column in range(len(self.data.columns)):\n",
        "        centroid_list.append(random()*(list_max[column] - list_min[column]) + list_min[column])\n",
        "      self.centroids.append(tuple(centroid_list))\n",
        "\n",
        "  def calculate_closest_centroid(self, row):\n",
        "    distances_cluster = []\n",
        "    for key in range(len(self.centroids)):\n",
        "      distances_cluster.append((self.calc_distance(self.centroids[key], row)))\n",
        "    return distances_cluster.index(min(distances_cluster))\n",
        "\n",
        "  def fit(self):\n",
        "    i = 25\n",
        "    while (i > 0):\n",
        "      self.past_clusters = self.clusters.copy()\n",
        "      self.clusters = []\n",
        "      self.init_cluster()\n",
        "      for row in range(len(self.data)):\n",
        "        closest_centroid = self.calculate_closest_centroid(self.data.iloc[row, :])\n",
        "        self.clusters[closest_centroid].loc[len(self.clusters[closest_centroid])] = self.data.iloc[row, :]\n",
        "      self.recalculate_centroids()\n",
        "\n",
        "      i -= 1\n",
        "\n",
        "\n",
        "  @staticmethod\n",
        "  def calc_distance(vec1, vec2):\n",
        "    return numpy.linalg.norm(vec1-vec2)\n",
        "\n",
        "  def recalculate_centroids(self):\n",
        "    self.centroids = []\n",
        "    for index in range(len(self.clusters)):\n",
        "      self.centroids.append(self.clusters[index].mean())\n",
        "\n",
        "  def check_variation(self):\n",
        "    return True\n",
        "\n",
        "\n",
        "\n",
        "\"\"\"\n",
        "------OPERACIONES------\n",
        "Saber si un elemento pertenece a un cluster\n",
        "Saber el centroide del cluster\n",
        "Saber si no hay variación\n",
        "\"\"\"\n",
        "\n",
        "\n",
        "\n",
        "\"\"\"\n",
        "k = numero de clusters [CHECK]\n",
        "inicializas k clusters aleatoriamente (centroides aleatorios) [CHECK]\n",
        "Calcular distancias a los centroides [CHECK]\n",
        "metes cada punto al cluster elegido por el centroide más cercano [CHECK]\n",
        "recalculas el centroide de cada clase\n",
        "repites while variación != 0\n",
        "\"\"\"\n",
        "\n",
        "a = MyK_Means(3, stars.iloc[0:, 0:2])\n",
        "a.fit()\n",
        "\n",
        "plt.scatter(a.clusters[0].iloc[0: , 0], a.clusters[0].iloc[0:, 1], color=\"yellow\", label=\"datos\")\n",
        "plt.scatter(a.clusters[1].iloc[0: , 0], a.clusters[1].iloc[0:, 1], color=\"blue\", label=\"datos\")\n",
        "plt.scatter(a.clusters[2].iloc[0: , 0], a.clusters[2].iloc[0:, 1], color=\"green\", label=\"datos\")\n",
        "\n",
        "plt.scatter(*zip(*a.centroids), color=\"red\", label=\"destacados\")\n",
        "plt.show()\n"
      ],
      "metadata": {
        "colab": {
          "base_uri": "https://localhost:8080/",
          "height": 430
        },
        "id": "-Y-wrtUtdg0m",
        "outputId": "858b1252-e0d8-47df-83e0-dc9b22d994ae"
      },
      "execution_count": 51,
      "outputs": [
        {
          "output_type": "display_data",
          "data": {
            "text/plain": [
              "<Figure size 640x480 with 1 Axes>"
            ],
            "image/png": "[encoded data removed]"
          },
          "metadata": {}
        }
      ]
    }
  ]
}